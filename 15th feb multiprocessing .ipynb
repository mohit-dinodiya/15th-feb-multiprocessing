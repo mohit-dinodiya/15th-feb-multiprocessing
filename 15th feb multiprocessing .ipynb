{
 "cells": [
  {
   "cell_type": "markdown",
   "id": "4134f48c-fccc-4257-9e0f-411acbf40954",
   "metadata": {},
   "source": [
    "# Q1. What is multiprocessing in python? Why is it useful?\n",
    "\n",
    "Multiprocessing is a technique in Python that allows a program to utilize multiple CPUs or cores to execute tasks in parallel. It involves creating multiple processes, each of which can run independently and concurrently with the others.\n",
    "\n",
    "Multiprocessing is useful for improving the performance and scalability of certain types of programs, especially those that involve CPU-bound tasks such as mathematical computations, data processing, and simulations. By dividing the workload across multiple processes, each of which can execute on a separate CPU or core, multiprocessing can significantly reduce the time required to complete these tasks.\n",
    "\n",
    "Multiprocessing is also useful for improving the resilience and fault tolerance of a program, by isolating different processes from each other and preventing errors or crashes in one process from affecting the others. This can be especially important in large-scale systems that require high availability and reliability.\n",
    "\n",
    "In Python, multiprocessing is supported by the multiprocessing module, which provides a simple and intuitive API for creating and managing processes. The multiprocessing module includes features such as process pools, inter-process communication, and shared memory, which can make it easier to write concurrent and parallel programs in Python."
   ]
  },
  {
   "cell_type": "markdown",
   "id": "65e61833-b511-4535-a3de-1a3bc5e9309c",
   "metadata": {},
   "source": [
    "# Q2. What are the differences between multiprocessing and multithreading?\n",
    "\n",
    "The main differences between multiprocessing and multithreading are:\n",
    "\n",
    "Execution Model: Multiprocessing involves running multiple processes concurrently, each with its own memory space, while multithreading involves running multiple threads within a single process, sharing the same memory space.\n",
    "\n",
    "Resource Utilization: Multiprocessing can take advantage of multiple CPUs or cores, while multithreading can only use a single CPU or core.\n",
    "\n",
    "Isolation: Multiprocessing provides stronger isolation between processes, making it easier to write concurrent programs without worrying about issues such as race conditions and deadlocks. Multithreading requires careful synchronization and locking to prevent these issues.\n",
    "\n",
    "Overhead: Multiprocessing can have higher overhead than multithreading due to the cost of creating and managing processes, while multithreading has lower overhead since threads share the same memory space.\n",
    "\n",
    "Scalability: Multiprocessing can scale well on machines with multiple CPUs or cores, while multithreading can experience diminishing returns on such machines due to contention for shared resources.\n",
    "\n",
    "Programming Complexity: Multiprocessing can be easier to program for certain types of problems, such as embarrassingly parallel problems that can be divided into independent subtasks. Multithreading can be more difficult to program since it requires careful management of shared resources and synchronization between threads.\n",
    "\n",
    "In summary, multiprocessing is better suited for CPU-bound tasks that can be parallelized across multiple processes, while multithreading is better suited for I/O-bound tasks that require concurrent access to shared resources within a single process."
   ]
  },
  {
   "cell_type": "markdown",
   "id": "37334898-810d-4047-994a-d5719fd4bcee",
   "metadata": {},
   "source": [
    "# Q3. Write a python code to create a process using the multiprocessing module."
   ]
  },
  {
   "cell_type": "code",
   "execution_count": 1,
   "id": "bdd0e3ac-4b90-442c-be02-bbbf82e66319",
   "metadata": {},
   "outputs": [
    {
     "name": "stdout",
     "output_type": "stream",
     "text": [
      "Worker process running\n"
     ]
    }
   ],
   "source": [
    "import multiprocessing\n",
    "\n",
    "def worker():\n",
    "    print(\"Worker process running\")\n",
    "\n",
    "if __name__ == \"__main__\":\n",
    "    p = multiprocessing.Process(target=worker)\n",
    "    p.start()\n",
    "    p.join()\n"
   ]
  },
  {
   "cell_type": "markdown",
   "id": "776e3149-235b-4820-8dfc-a204e17d9b61",
   "metadata": {},
   "source": [
    "In this program, we define a function worker() that will be executed by the child process. We then create a Process object p, and assign it the target function using the target argument.\n",
    "\n",
    "We then start the process using the start() method, which causes the child process to execute the worker() function. We also call the join() method on the process object to wait for the child process to complete.\n",
    "\n",
    "The if __name__ == \"__main__\": block is used to ensure that the program only runs the main code block if it is being run directly, rather than being imported by another module.\n",
    "\n",
    "When we run this program, it will create a child process that executes the worker() function, which will print the message \"Worker process running\"."
   ]
  },
  {
   "cell_type": "markdown",
   "id": "f1699911-d7a8-4485-bb7b-51b09411838d",
   "metadata": {},
   "source": [
    "# Q4. What is a multiprocessing pool in python? Why is it used?\n",
    "\n",
    "A multiprocessing pool in Python is a group of worker processes that can be used to execute tasks in parallel. The multiprocessing module provides a Pool class that can be used to create a pool of worker processes.\n",
    "\n",
    "The Pool class is useful for executing functions that can be parallelized across multiple processes. By creating a pool of worker processes, we can distribute the workload across the processes and execute the tasks in parallel, which can significantly reduce the time required to complete the tasks.\n",
    "\n",
    "The Pool class provides several methods for executing tasks in parallel, including:\n",
    "\n",
    "map(): This method applies a function to each item in an iterable, and returns a list of the results. The items are divided among the worker processes in the pool, and the function is executed in parallel on each item.\n",
    "\n",
    "imap(): This method is similar to map(), but returns an iterator that yields the results as they become available. This can be useful for processing large iterables that may not fit into memory.\n",
    "\n",
    "apply(): This method applies a function to a single argument, and returns the result. The function is executed in parallel by one of the worker processes in the pool.\n",
    "\n",
    "apply_async(): This method is similar to apply(), but returns a AsyncResult object that can be used to retrieve the result later.\n",
    "\n",
    "The Pool class can also be used to manage the worker processes in the pool, including starting and stopping the processes, and retrieving the results of executed tasks.\n",
    "\n",
    "In summary, the multiprocessing module provides a Pool class that can be used to create a pool of worker processes for executing tasks in parallel, which can improve the performance and scalability of certain types of programs."
   ]
  },
  {
   "cell_type": "markdown",
   "id": "a65dbe3b-6484-4b71-a5ec-623aea8a03e5",
   "metadata": {},
   "source": [
    "# Q5. How can we create a pool of worker processes in python using the multiprocessing module?\n",
    "\n",
    "To create a pool of worker processes in Python using the multiprocessing module, we can follow these steps:\n",
    "\n",
    "Import the multiprocessing module.\n",
    "Define a function that will be executed by the worker processes.\n",
    "Create a Pool object, specifying the number of worker processes to use.\n",
    "Use one of the Pool methods, such as map() or apply_async(), to execute the function in parallel across the worker processes.\n",
    "Retrieve the results of the executed tasks, if necessary.\n",
    "Close the Pool object to release the resources used by the worker processes."
   ]
  },
  {
   "cell_type": "code",
   "execution_count": 2,
   "id": "45010d68-7ae6-4d05-b7d8-d992223ed05e",
   "metadata": {},
   "outputs": [
    {
     "name": "stdout",
     "output_type": "stream",
     "text": [
      "[1, 4, 9, 16, 25]\n"
     ]
    }
   ],
   "source": [
    "import multiprocessing\n",
    "\n",
    "# Define a function that will be executed by the worker processes\n",
    "def square(x):\n",
    "    return x * x\n",
    "\n",
    "if __name__ == \"__main__\":\n",
    "    # Create a pool of 4 worker processes\n",
    "    with multiprocessing.Pool(processes=4) as pool:\n",
    "        # Use the map() method to apply the function to a list of inputs\n",
    "        results = pool.map(square, [1, 2, 3, 4, 5])\n",
    "        \n",
    "        # Print the results\n",
    "        print(results)\n"
   ]
  },
  {
   "cell_type": "markdown",
   "id": "53fe5af6-4a7f-4f10-bfe9-34b0ee87f8f9",
   "metadata": {},
   "source": [
    "In this program, we define a function square(x) that computes the square of a number. We then create a Pool object with 4 worker processes, using the processes argument.\n",
    "\n",
    "We use the map() method to apply the square() function to a list of inputs [1, 2, 3, 4, 5]. The map() method divides the inputs among the worker processes in the pool, and executes the square() function in parallel on each input.\n",
    "\n",
    "The results are returned as a list, which we assign to the results variable and print.\n",
    "\n",
    "When we run this program, it will create a pool of 4 worker processes, and use the map() method to execute the square() function in parallel on the list of inputs. The results are printed as [1, 4, 9, 16, 25], which are the squares of the input numbers."
   ]
  },
  {
   "cell_type": "markdown",
   "id": "6451cc08-d843-46c3-824e-b0584aa68106",
   "metadata": {},
   "source": [
    "# Q6. Write a python program to create 4 processes, each process should print a different number using the multiprocessing module in python.\n",
    "\n"
   ]
  },
  {
   "cell_type": "code",
   "execution_count": 3,
   "id": "b1b5ef24-fb4e-42a1-82e4-3ab28821dd83",
   "metadata": {},
   "outputs": [
    {
     "name": "stdout",
     "output_type": "stream",
     "text": [
      "Process Process-6Process  printsProcess-7  Processprints1  \n",
      "Process-82Process \n",
      "prints  Process-93 \n",
      "prints 4\n"
     ]
    }
   ],
   "source": [
    "import multiprocessing\n",
    "\n",
    "# Define a function that prints a number\n",
    "def print_number(number):\n",
    "    print(\"Process\", multiprocessing.current_process().name, \"prints\", number)\n",
    "\n",
    "if __name__ == \"__main__\":\n",
    "    # Create 4 processes\n",
    "    processes = []\n",
    "    for i in range(4):\n",
    "        process = multiprocessing.Process(target=print_number, args=(i+1,))\n",
    "        processes.append(process)\n",
    "    \n",
    "    # Start the processes\n",
    "    for process in processes:\n",
    "        process.start()\n",
    "    \n",
    "    # Wait for the processes to finish\n",
    "    for process in processes:\n",
    "        process.join()\n"
   ]
  },
  {
   "cell_type": "markdown",
   "id": "95eff7ad-71d9-4043-9cce-49384bb8af0d",
   "metadata": {},
   "source": [
    "In this program, we define a function print_number(number) that prints a number, along with the name of the process that is printing the number. We then create 4 processes, each of which executes the print_number() function with a different number (1, 2, 3, or 4).\n",
    "\n",
    "We create the processes using a for loop that iterates 4 times, and uses the Process class to create a new process for each iteration. We pass the print_number() function as the target function for each process, and pass the number to print as an argument using the args parameter.\n",
    "\n",
    "We start the processes using another for loop that calls the start() method on each process.\n",
    "\n",
    "Finally, we wait for the processes to finish using a third for loop that calls the join() method on each process. This ensures that the main program does not exit before all the processes have finished executing."
   ]
  },
  {
   "cell_type": "code",
   "execution_count": null,
   "id": "e02c7511-e175-4c4f-8e98-526bb5622473",
   "metadata": {},
   "outputs": [],
   "source": []
  }
 ],
 "metadata": {
  "kernelspec": {
   "display_name": "Python 3 (ipykernel)",
   "language": "python",
   "name": "python3"
  },
  "language_info": {
   "codemirror_mode": {
    "name": "ipython",
    "version": 3
   },
   "file_extension": ".py",
   "mimetype": "text/x-python",
   "name": "python",
   "nbconvert_exporter": "python",
   "pygments_lexer": "ipython3",
   "version": "3.10.8"
  }
 },
 "nbformat": 4,
 "nbformat_minor": 5
}
